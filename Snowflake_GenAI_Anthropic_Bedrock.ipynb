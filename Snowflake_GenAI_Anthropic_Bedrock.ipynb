{
 "cells": [
  {
   "cell_type": "code",
   "execution_count": 1,
   "id": "77e31397",
   "metadata": {},
   "outputs": [
    {
     "name": "stdout",
     "output_type": "stream",
     "text": [
      "Requirement already satisfied: python-dotenv in /home/ec2-user/anaconda3/envs/python3/lib/python3.10/site-packages (1.0.0)\n",
      "Requirement already satisfied: pyyaml in /home/ec2-user/anaconda3/envs/python3/lib/python3.10/site-packages (6.0.1)\n",
      "Requirement already satisfied: langchain in /home/ec2-user/anaconda3/envs/python3/lib/python3.10/site-packages (0.0.306)\n",
      "Requirement already satisfied: langchain-experimental in /home/ec2-user/anaconda3/envs/python3/lib/python3.10/site-packages (0.0.24)\n",
      "Requirement already satisfied: SQLAlchemy<3,>=1.4 in /home/ec2-user/anaconda3/envs/python3/lib/python3.10/site-packages (from langchain) (1.4.49)\n",
      "Requirement already satisfied: aiohttp<4.0.0,>=3.8.3 in /home/ec2-user/anaconda3/envs/python3/lib/python3.10/site-packages (from langchain) (3.8.6)\n",
      "Requirement already satisfied: anyio<4.0 in /home/ec2-user/anaconda3/envs/python3/lib/python3.10/site-packages (from langchain) (3.7.1)\n",
      "Requirement already satisfied: async-timeout<5.0.0,>=4.0.0 in /home/ec2-user/anaconda3/envs/python3/lib/python3.10/site-packages (from langchain) (4.0.3)\n",
      "Requirement already satisfied: dataclasses-json<0.7,>=0.5.7 in /home/ec2-user/anaconda3/envs/python3/lib/python3.10/site-packages (from langchain) (0.6.1)\n",
      "Requirement already satisfied: jsonpatch<2.0,>=1.33 in /home/ec2-user/anaconda3/envs/python3/lib/python3.10/site-packages (from langchain) (1.33)\n",
      "Requirement already satisfied: langsmith<0.1.0,>=0.0.38 in /home/ec2-user/anaconda3/envs/python3/lib/python3.10/site-packages (from langchain) (0.0.41)\n",
      "Requirement already satisfied: numexpr<3.0.0,>=2.8.4 in /home/ec2-user/anaconda3/envs/python3/lib/python3.10/site-packages (from langchain) (2.8.7)\n",
      "Requirement already satisfied: numpy<2,>=1 in /home/ec2-user/anaconda3/envs/python3/lib/python3.10/site-packages (from langchain) (1.26.0)\n",
      "Requirement already satisfied: pydantic<3,>=1 in /home/ec2-user/anaconda3/envs/python3/lib/python3.10/site-packages (from langchain) (2.4.2)\n",
      "Requirement already satisfied: requests<3,>=2 in /home/ec2-user/anaconda3/envs/python3/lib/python3.10/site-packages (from langchain) (2.31.0)\n",
      "Requirement already satisfied: tenacity<9.0.0,>=8.1.0 in /home/ec2-user/anaconda3/envs/python3/lib/python3.10/site-packages (from langchain) (8.2.3)\n",
      "Requirement already satisfied: attrs>=17.3.0 in /home/ec2-user/anaconda3/envs/python3/lib/python3.10/site-packages (from aiohttp<4.0.0,>=3.8.3->langchain) (23.1.0)\n",
      "Requirement already satisfied: charset-normalizer<4.0,>=2.0 in /home/ec2-user/anaconda3/envs/python3/lib/python3.10/site-packages (from aiohttp<4.0.0,>=3.8.3->langchain) (3.3.0)\n",
      "Requirement already satisfied: multidict<7.0,>=4.5 in /home/ec2-user/anaconda3/envs/python3/lib/python3.10/site-packages (from aiohttp<4.0.0,>=3.8.3->langchain) (6.0.4)\n",
      "Requirement already satisfied: yarl<2.0,>=1.0 in /home/ec2-user/anaconda3/envs/python3/lib/python3.10/site-packages (from aiohttp<4.0.0,>=3.8.3->langchain) (1.9.2)\n",
      "Requirement already satisfied: frozenlist>=1.1.1 in /home/ec2-user/anaconda3/envs/python3/lib/python3.10/site-packages (from aiohttp<4.0.0,>=3.8.3->langchain) (1.4.0)\n",
      "Requirement already satisfied: aiosignal>=1.1.2 in /home/ec2-user/anaconda3/envs/python3/lib/python3.10/site-packages (from aiohttp<4.0.0,>=3.8.3->langchain) (1.3.1)\n",
      "Requirement already satisfied: idna>=2.8 in /home/ec2-user/anaconda3/envs/python3/lib/python3.10/site-packages (from anyio<4.0->langchain) (3.4)\n",
      "Requirement already satisfied: sniffio>=1.1 in /home/ec2-user/anaconda3/envs/python3/lib/python3.10/site-packages (from anyio<4.0->langchain) (1.3.0)\n",
      "Requirement already satisfied: exceptiongroup in /home/ec2-user/anaconda3/envs/python3/lib/python3.10/site-packages (from anyio<4.0->langchain) (1.1.3)\n",
      "Requirement already satisfied: marshmallow<4.0.0,>=3.18.0 in /home/ec2-user/anaconda3/envs/python3/lib/python3.10/site-packages (from dataclasses-json<0.7,>=0.5.7->langchain) (3.20.1)\n",
      "Requirement already satisfied: typing-inspect<1,>=0.4.0 in /home/ec2-user/anaconda3/envs/python3/lib/python3.10/site-packages (from dataclasses-json<0.7,>=0.5.7->langchain) (0.9.0)\n",
      "Requirement already satisfied: jsonpointer>=1.9 in /home/ec2-user/anaconda3/envs/python3/lib/python3.10/site-packages (from jsonpatch<2.0,>=1.33->langchain) (2.4)\n",
      "Requirement already satisfied: annotated-types>=0.4.0 in /home/ec2-user/anaconda3/envs/python3/lib/python3.10/site-packages (from pydantic<3,>=1->langchain) (0.5.0)\n",
      "Requirement already satisfied: pydantic-core==2.10.1 in /home/ec2-user/anaconda3/envs/python3/lib/python3.10/site-packages (from pydantic<3,>=1->langchain) (2.10.1)\n",
      "Requirement already satisfied: typing-extensions>=4.6.1 in /home/ec2-user/anaconda3/envs/python3/lib/python3.10/site-packages (from pydantic<3,>=1->langchain) (4.8.0)\n",
      "Requirement already satisfied: urllib3<3,>=1.21.1 in /home/ec2-user/anaconda3/envs/python3/lib/python3.10/site-packages (from requests<3,>=2->langchain) (1.26.18)\n",
      "Requirement already satisfied: certifi>=2017.4.17 in /home/ec2-user/anaconda3/envs/python3/lib/python3.10/site-packages (from requests<3,>=2->langchain) (2023.7.22)\n",
      "Requirement already satisfied: greenlet!=0.4.17 in /home/ec2-user/anaconda3/envs/python3/lib/python3.10/site-packages (from SQLAlchemy<3,>=1.4->langchain) (3.0.1)\n",
      "Requirement already satisfied: packaging>=17.0 in /home/ec2-user/anaconda3/envs/python3/lib/python3.10/site-packages (from marshmallow<4.0.0,>=3.18.0->dataclasses-json<0.7,>=0.5.7->langchain) (23.2)\n",
      "Requirement already satisfied: mypy-extensions>=0.3.0 in /home/ec2-user/anaconda3/envs/python3/lib/python3.10/site-packages (from typing-inspect<1,>=0.4.0->dataclasses-json<0.7,>=0.5.7->langchain) (1.0.0)\n"
     ]
    }
   ],
   "source": [
    "!pip install python-dotenv pyyaml langchain langchain-experimental"
   ]
  },
  {
   "cell_type": "code",
   "execution_count": 2,
   "id": "fcedeab2",
   "metadata": {},
   "outputs": [],
   "source": [
    "import os\n",
    "from dotenv import load_dotenv\n",
    "import yaml\n",
    "from langchain.prompts.few_shot import FewShotPromptTemplate\n",
    "from langchain.prompts.prompt import PromptTemplate\n",
    "from langchain.sql_database import SQLDatabase\n",
    "from langchain.chains.sql_database.prompt import PROMPT_SUFFIX, _postgres_prompt\n",
    "from langchain.embeddings.huggingface import HuggingFaceEmbeddings\n",
    "from langchain.llms import Bedrock\n",
    "from langchain.prompts.example_selector.semantic_similarity import SemanticSimilarityExampleSelector\n",
    "from langchain.vectorstores import Chroma\n",
    "from langchain_experimental.sql import SQLDatabaseChain\n",
    "from env import *"
   ]
  },
  {
   "cell_type": "code",
   "execution_count": 3,
   "id": "294394c2",
   "metadata": {},
   "outputs": [],
   "source": [
    "#load env variables, setup llm instance profile and snowflake URI\n",
    "\n",
    "load_dotenv()\n",
    "\n",
    "llm = Bedrock(\n",
    "    credentials_profile_name=os.getenv(\"snowadmin\"),\n",
    "    model_id=\"anthropic.claude-v1\",\n",
    "    endpoint_url=\"https://bedrock-runtime.us-east-1.amazonaws.com\",\n",
    "    region_name=\"us-east-1\",\n",
    "    verbose=True\n",
    ")\n",
    "\n",
    "def get_snowflake_uri():\n",
    "    snowflake_url = f\"snowflake://{user}:{password}@{snowflake_account}/{database}/{schema}?warehouse={warehouse_name}&role={role}\"\n",
    "    return snowflake_url"
   ]
  },
  {
   "cell_type": "code",
   "execution_count": 4,
   "id": "2af2dd18",
   "metadata": {},
   "outputs": [],
   "source": [
    "#Load the sql examples for few-shot prompting examples\n",
    "def load_samples():\n",
    "    sql_samples = None\n",
    "    with open(\"netflix_examples.yaml\", \"r\") as stream:\n",
    "        sql_samples = yaml.safe_load(stream)\n",
    "    return sql_samples"
   ]
  },
  {
   "cell_type": "code",
   "execution_count": 5,
   "id": "1b9c5c53",
   "metadata": {},
   "outputs": [],
   "source": [
    "# This is formatting the prompts that are retrieved from the sample prompy yaml and loads the examples, \n",
    "# creates the embeddings, stores them in vector db, and it returns the 3 most similar\n",
    "\n",
    "def load_few_shot_chain(llm, db, examples):\n",
    "    example_prompt = PromptTemplate(\n",
    "        input_variables=[\"table_info\", \"input\", \"sql_cmd\", \"sql_result\", \"answer\"],\n",
    "        template=(\n",
    "            \"{table_info}\\n\\nQuestion: {input}\\nSQLQuery: {sql_cmd}\\nSQLResult:\"\n",
    "            \" {sql_result}\\nAnswer: {answer}\"\n",
    "        ),\n",
    "    )\n",
    "    local_embeddings = HuggingFaceEmbeddings(model_name=\"sentence-transformers/all-MiniLM-L6-v2\")\n",
    "    example_selector = SemanticSimilarityExampleSelector.from_examples(\n",
    "        examples,\n",
    "        local_embeddings,\n",
    "        Chroma,\n",
    "        k=min(3, len(examples)),\n",
    "    )\n",
    "    few_shot_prompt = FewShotPromptTemplate(\n",
    "        example_selector=example_selector,\n",
    "        example_prompt=example_prompt,\n",
    "        prefix=_postgres_prompt + \"Provide no preamble\" + \" Here are some examples:\",\n",
    "        suffix=PROMPT_SUFFIX,\n",
    "        input_variables=[\"table_info\", \"input\", \"top_k\"],\n",
    "    )\n",
    "    return SQLDatabaseChain.from_llm(\n",
    "        llm,\n",
    "        db,\n",
    "        prompt=few_shot_prompt,\n",
    "        use_query_checker=True,\n",
    "        verbose=True,\n",
    "        return_intermediate_steps=True,\n",
    "    )\n"
   ]
  },
  {
   "cell_type": "code",
   "execution_count": 6,
   "id": "8cee65c2",
   "metadata": {},
   "outputs": [],
   "source": [
    "# Executing the SQL query on snowflake\n",
    "def snowflake_answer(question):\n",
    "    snowflake_url = get_snowflake_uri()\n",
    "    db = SQLDatabase.from_uri(snowflake_url, sample_rows_in_table_info=1, include_tables=[\"data\"])\n",
    "    examples = load_samples()\n",
    "    sql_db_chain = load_few_shot_chain(llm, db, examples)\n",
    "    answer = sql_db_chain(question)"
   ]
  },
  {
   "cell_type": "code",
   "execution_count": 7,
   "id": "a170eb93",
   "metadata": {},
   "outputs": [
    {
     "name": "stderr",
     "output_type": "stream",
     "text": [
      "/home/ec2-user/anaconda3/envs/python3/lib/python3.10/site-packages/snowflake/connector/options.py:103: UserWarning: You have an incompatible version of 'pyarrow' installed (14.0.1), please install a version that adheres to: 'pyarrow<10.1.0,>=10.0.1; extra == \"pandas\"'\n",
      "  warn_incompatible_dep(\n"
     ]
    },
    {
     "name": "stdout",
     "output_type": "stream",
     "text": [
      "\n",
      "\n",
      "\u001b[1m> Entering new SQLDatabaseChain chain...\u001b[0m\n",
      "List all titles with TYPE show and have SEASON lesser than 4 and contains GENRE comedy?\n",
      "SQLQuery:\u001b[32;1m\u001b[1;3mSELECT title FROM data WHERE type = 'SHOW' AND seasons < 4 AND genres LIKE '%comedy%'\u001b[0m\n",
      "SQLResult: \u001b[33;1m\u001b[1;3m[('Monty Pythons Fliegender Zirkus',), ('High Risk',), ('Cowboy Bebop',), ('Sonic X',), ('Chappelles Show',), ('Gurren Lagann',), ('Black Butler',), ('Boys Over Flowers',), ('Dead Set',), ('Toradora!',), ('Angel Beats!',), ('Monty Python: Almost the Truth (The Lawyers Cut)',), ('Ouran High School Host Club',), ('Iris',), ('DreamWorks Shreks Swamp Stories',), ('Ben & Hollys Little Kingdom',), ('Den-noh Coil',), ('Zig and Sharko',), ('The Cartel',), ('Kung Fu Panda Awesome Secrets',), ('Dreamworks Happy Holidays from Madagascar',), ('Timmy Time',), ('Oscars Oasis',), ('Fated to Love You',), ('Nuevo Rico Nuevo Pobre',), ('Pecados capitales',), ('Pedro El Escamoso',), ('Monty Pythons Personal Best',), ('Together',), ('Black & White',), ('The Prince Who Turns into a Frog',), ('At Dolphin Bay',), ('Pink Zone',), ('Happy Endings',), ('Hunter x Hunter',), ('Lilyhammer',), ('TIGER & BUNNY',), ('Magi',), ('My Babysitters a Vampire',), ('Kurokos Basketball',), ('Smile PreCure!',), ('Justin Time',), ('Meet the Adebanjos',), ('Inborn Pair',), ('Office Girls',), ('Love, Now',), ('Masameer',), ('Drunken to Love You',), ('Yours Fatefully',), ('KILL la KILL',), ('Derek',), ('Lovesick',), ('Zach Stone Is Gonna Be Famous',), ('The Cat in the Hat Knows a Lot About That!',), ('Sam & Cat',), ('The Heirs',), ('The Haunted Hathaways',), ('Pac-Man and the Ghostly Adventures',), ('Dokidoki! PreCure',), ('Incomplete Life',), ('Turbo FAST',), ('Boss & Me',), ('Two Fathers',), ('Mystic Whispers',), ('Ojos in d House',), ('Ash vs Evil Dead',), ('One-Punch Man',), ('Servant of the People',), ('Crashing',), ('Norsemen',), ('Scream: The TV Series',), ('Versailles',), ('Flowers',), ('Love',), ('Wet Hot American Summer: First Day of Camp',), ('Master of None',), ('Easy',), ('The Disastrous Life of Saiki K.',), ('Trollhunters: Tales of Arcadia',), ('March Comes in Like a Lion',), ('Gilmore Girls: A Year in the Life',), ('The Windsors',), ('Flaked',), ('A Very Secret Service',), ('Crazyhead',), ('Lady Dynamite',), ('No Tomorrow',), ('Grizzy & the Lemmings',), ('The Letdown',), ('Molang',), ('Reply 1988',), ('Cinderella and Four Knights',), ('Simon',), ('The Sound of Your Heart',), ('Spotless',), ('Kuromukuro',), ('Puffin Rock',), ('Skylanders Academy',), ('Cant Cope, Wont Cope',), ('Danger Mouse',), ('Haters Back Off',), ('Hello, My Twenties!',), ('Kong: King of the Apes',), ('Bella and the Bulldogs',), ('Unnatural Selection',), ('Netflix Presents: The Characters',), ('Good Morning Call',), ('Beat Bugs',), ('Another Miss Oh',), ('Ask the Storybots',), ('World of Winx',), ('Richie Rich',), ('The Good Cop',), ('My Runway',), ('Dear My Friends',), ('Toon',), ('H20: Mermaid Adventures',), ('Paquita Salas',), ('Три кота',), ('Old Money',), ('Atelier',), ('Chelsea',), ('Real Rob',), ('Miss in Kiss',), ('Trailer Park Boys: Out of the Park: Europe',), ('Kazoops!',), ('Fangbone!',), ('The Miracle',), ('Magic Cellphone',), ('Diamond Lover',), ('My Little Baby',), ('Bibik Bibikku',), ('Derry Girls',), ('Maniac',), ('HAPPY!',), ('Imposters',), ('Santa Clarita Diet',), ('The End of the F***ing World',), ('The Kominsky Method',), ('A Series of Unfortunate Events',), ('American Vandal',), ('Mystery Science Theater 3000',), ('Wet Hot American Summer: Ten Years Later',), ('Everything Sucks!',), ('James Acaster: Repertoire',), ('VeggieTales in the City',), ('Perfume',), ('Cells at Work!',), ('Stranger',), ('Rascal Does Not Dream of Bunny Girl Senpai',), ('Hilda',), ('Friends from College',), ('My Little Pony: Equestria Girls',), ('Insatiable',), ('Sick Note',), ('Teasing Master Takagi-san',), ('Scissor Seven',), ('Dave Chappelle',), ('Great News',), ('Zoids Wild',), ('Hotel Transylvania: The Series',), ('Magic for Humans',), ('Bill Nye Saves the World',), ('Life Sentence',), ('Shes Gotta Have It',), ('The Toys That Made Us',), ('The Standups',), ('Disjointed',), ('White Gold',), ('The Good Cop',), ('Because This Is My First Life',), ('Abby Hatcher',), ('Sisters',), ('Norm Macdonald Has a Show',), ('The House of Flowers',), ('Hot Date',), ('Welcome to the Family',), ('A Korean Odyssey',), ('Cloudy with a Chance of Meatballs',), ('Man Like Mobeen',), ('Meteor Garden',), ('Fallet',), ('The Hollow',), ('Transformers: Rescue Bots Academy',), ('The Fix',), ('The Guest',), ('Thieves of the Wood',), ('Dope',), ('Paradise PD',), ('Welcome to Waikiki',), ('The Hook Up Plan',), ('The Bride of Habaek',), ('The New Legends of Monkey',), ('The Velvet Collection',), ('The Indian Detective',), ('My Shy Boss',), ('Selection Day',), ('Cupcake & Dino - General Services',), ('Daniel Sloss: Live Shows',), ('Free Rein',), ('Bumping Mics with Jeff Ross & Dave Attell',), ('Hi Score Girl',), ('Samurai Gourmet',), ('Lego Jurassic World: The Secret Exhibit',), ('Girlboss',), ('Spy Kids: Mission Critical',), ('Polly Pocket',), ('Pop Team Epic',), ('Standup and Away! with Brian Regan',), ('A Love So Beautiful',), ('The Piano Forest',), ('Super Drags',), ('Bad Guys: Vile City',), ('Busted!',), ('3Below: Tales of Arcadia',), ('Live',), ('My Secret Romance',), ('The Comedy Lineup',), ('Prison Playbook',), ('Marlon',), ('My Sassy Girl',), ('Million Yen Women',), ('My ID is Gangnam Beauty',), ('Champions',), ('100 Days My Prince',), ('The Who Was? Show',), ('Back Street Girls: Goku Dolls',), ('Edgar Rice Burroughs Tarzan and Jane',), ('Robot Trains',), ('My Dead Ex',), ('Kantaro: The Sweet Tooth Salaryman',), ('ReBoot: The Guardian Code',), ('Neo Yokio',), ('Super Monsters',), ('The Degenerates',), ('Motown Magic',), ('Larva Island',), ('Clean with Passion for Now',), ('Ari Shaffir: Double Negative',), ('Relatable',), ('Prince of Peoria',), ('Yummy Mummies',), ('Ashes of Love',), ('Accidentally In Love',), ('The Joel McHale Show with Joel McHale',), ('Best.Worst.Weekend.Ever.',), ('Samantha!',), ('Legend Quest',), ('Trailer Park Boys: Out of the Park: USA',), ('The Curious Creations of Christine McConnell',), ('Heidi, bienvenida a casa',), ('My Only Love Song',), ('Borges',), ('Stretch Armstrong & the Flex Fighters',), ('Dinotrux: Supercharged',), ('Revolutionary Love',), ('Dennis & Gnasher Unleashed!',), ('Take My Brother Away',), ('Jimmy: The True Story of a True Idiot',), ('Smoking',), ('Oh My Ghost',), ('Wrong Kind of Black',), ('All About the Washingtons',), ('Part-Time Idol',), ('The Honeymoon Stand Up Special',), ('A Boy Named Flora A',), ('The Couldve-Gone-All-the-Way Committee',), ('The Many Faces of Ito',), ('Dave Chappelle: Equanimity & The Bird Revelation',), ('Running Man',), ('Julies Greenroom',), ('All Hail King Julien: Exiled',), ('Buddy Thunderstruck',), ('Blazing Transfer Students',), ('Club de Cuervos Presents: The Ballad of Hugo Sánchez',), ('Check The Store Next Door',), ('Pucca: Love Recipe',), ('The Perfect Match',), ('The Break with Michelle Wolf',), ('The Sound of Your Heart: Reboot',), ('YG Future Strategy Office',), ('Russian Doll',), ('After Life',), ('Love, Death & Robots',), ('The Umbrella Academy',), ('Space Force',), ('Dead to Me',), ('I Think You Should Leave with Tim Robinson',), ('Emily in Paris',), ('Tuca & Bertie',), ('Feel Good',), ('The Daily Life of the Immortal King',), ('Living with Yourself',), ('Pokémon Journeys: The Series',), ('I Am Not Okay with This',), ('The Politician',), ('The Untamed',), ('Daybreak',), ('Merli: Dare to Know',), ('DC Super Hero Girls',), ('Its Okay to Not Be Okay',), ('Trinkets',), ('Dorohedoro',), ('Bonding',), ('Lego Jurassic World: Legend of Isla Nublar',), ('Green Eggs and Ham',), ('L.A.s Finest',), ('Almost Happy',), ('Dash & Lily',), ('Blown Away',), ('Medical Police',), ('Start-Up',), ('Middleditch & Schwartz',), ('Teenage Bounty Hunters',), ('GREAT PRETENDER',), ('Kipo and the Age of Wonderbeasts',), ('Valeria',), ('Aunty Donnas Big Ol House of Fun',), ('Historical Roasts',), ('How to Sell Drugs Online (Fast)',), ('Gentefied',), ('Hotel Del Luna',), ('The Baker and the Beauty',), ('Her Private Life',), ('Power Rangers Beast Morphers',), ('Home for Christmas',), ('Rainbow High',), ('Special',), ('Turn Up Charlie',), ('Abyss',), ('Gameboys',), ('Dolly Partons Heartstrings',), ('Julie and the Phantoms',), ('The Naked Director',), ('The Baby-Sitters Club',), ('Romance Is a Bonus Book',), ('No Good Nick',), ('Connected',), ('Love Alarm',), ('Love & Anarchy',), ('#blackAF',), ('Touch Your Heart',), ('The Duchess',), ('Love 101',), ('Hospital Playlist',), ('Power Players',), ('Ashley Garcia: Genius in Love',), ('Family Business',), ('The InBESTigators',), ('AJ and the Queen',), ('Mythomaniac',), ('Twice Upon a Time',), ('Lunatics',), ('Schulz Saves America',), ('Do Do Sol Sol La La Sol',), ('Taj Mahal 1989',), ('Dragons: Rescue Riders',), ('Mr. Iglesias',), ('Mystic Pop-up Bar',), ('Nobodys Looking',), ('Hi Bye, Mama!',), ('Heroes of Goo Jit Zu',), ('The Last Word',), ('Losers',), ('Kota Factory',), ('The School Nurse Files',), ('Hoops',), ('Twelve Forever',), ('The Cabin with Bert Kreischer',), ('Reality Z',), ('Rookie Historian Goo Hae-Ryung',), ('Can You Hear Me?',), ('Trailer Park Boys: The Animated Series',), ('Malibu Rescue: The Series',), ('The Club',), ('Sneakerheads',), ('Search: WWW',), ('I Hear You',), ('Merry Happy Whatever',), ('The Neighbor',), ('The Healing Powers of Dude',), ('Back with the Ex',), ('The Big Show Show',), ('Go! Live Your Way',), ('When the Camellia Blooms',), ('The Search',), ('Shaun the Sheep: Adventures from Mossy Bottom',), ('Mystery Lab',), ('Its Bruno!',), ('Maradona in Mexico',), ('Brews Brothers',), ('Alien TV',), ('Was It Love?',), ('Followers',), ('Social Distance',), ('Huge in France',), ('Felipe Esparza: Bad Decisions',), ('Over Christmas',), ('Mismatched',), ('Rilakkuma and Kaoru',), ('Stay Tuned!',), ('Booba: Food Puzzle',), ('COMEDIANS of the world',), ('How To Ruin Christmas',), ('Trigger Warning with Killer Mike',), ('Masaba Masaba',), ('Until Dawn',), ('The Good Bandit',), ('Astronomy Club: The Sketch Show',), ('Handsome Siblings',), ('Archibalds Next Big Thing',), ('Prank Encounters',), ('The Iliza Shlesinger Sketch Show',), ('Team Kaylie',), ('Put Your Head on My Shoulder',), ('Green Door',), ('GAME ON: A Comedy Crossover Event',), ('The Unremarkable Juanquini',), ('Mighty Little Bheem',), ('Rhyme Time Town',), ('Sakho & Mangane',), ('Bhaag Beanie Bhaag',), ('Hasmukh',), ('A Little Thing Called First Love',), ('Tiffany Haddish Presents: They Ready',), ('Oldsters',), ('Larry Charles Dangerous World of Comedy',), ('Hong Kong West Side Stories',), ('Dino Girl Gauko',), ('Sexy Central',), ('Encounters',), ('Lugar de Mulher',), ('Mighty Little Bheem: Festival of Colors',), ('Six Windows in the Desert',), ('Bangkok Buddies',), ('Pinky Malinky',), ('The Charming Stepmom',), ('Once Upon a Time in Lingjian Mountain',), ('Answer for Heaven',), ('Valentino',), ('Buddi',), ('Ladies Up',), ('The House Arrest of Us',), ('Fary: Hexagone',), ('Mighty Little Bheem: Diwali',), ('The Pentaverate',), ('Murderville',), ('Clark',), ('Hard Cell',), ('The Woman in the House Across the Street from the Girl in the Window',), ('Maid',), ('Lupin',), ('Human Resources',), ('Heirs to the Land',), ('The Cuphead Show!',), ('Cowboy Bebop',), ('Komi Cant Communicate',), ('Tomorrow',), ('Ginny & Georgia',), ('Inside Job',), ('The Chair',), ('Sex/Life',), ('True Story',), ('Anxious People',), ('The Last Bus',), ('Masters of the Universe: Revelation',), ('Maya and the Three',), ('Samurai Rabbit: The Usagi Chronicles',), ('Vincenzo',), ('Smother-In-Law',), ('Pretend Its a City',), ('Hometown Cha-Cha-Cha',), ('An astrological guide for broken hearts',), ('Standing Up',), ('History of Swear Words',), ('Hes Expecting',), ('He-Man and the Masters of the Universe',), ('The Way of the Househusband',), ('Shaman King',), ('Saturday Morning All Star Hits!',), ('Post Mortem: No One Dies in Skarnes',), ('Pretty Smart',), ('On the Verge',), ('The Club',), ('Falling Into Your Smile',), ('Wild Abandon',), ('The Upshaws',), ('Q-Force',), ('Centaurworld',), ('Power Rangers Dino Fury',), ('Our Beloved Summer',), ('Tear Along the Dotted Line',), ('Feels Like Ishq',), ('The Creature Cases',), ('The Crew',), ('Sex, Love & Goop',), ('Thomas & Friends: All Engines Go!',), ('Elite Short Stories: Patrick',), ('Getting Curious with Jonathan Van Ness',), ('Inspector Koo',), ('Back to 15',), ('Battle Kitty',), ('Misfit: The Series',), ('Once Upon a Time... Happily Never After',), ('Penguin Town',), ('Elite Short Stories: Phillipe Caye Felipe',), ('Zero Chill',), ('Action Pack',), ('Finding Ola',), ('Pui Pui Molcar',), ('Generation 56K',), ('Elite Short Stories: Samuel Omar',), ('Call My Agent Bollywood',), ('Kid Cosmic',), ('Framed! A Sicilian Murder Mystery',), ('50M2',), ('Angry Birds: Summer Madness',), ('Russell Howard: Lubricant',), ('Chicago Party Aunt',), ('Sexify',), ('The Time It Takes',), ('That Girl Lay Lay',), ('Alessandro Cattelan: One Simple Question',), ('Everything Will Be Fine',), ('Soil',), ('Why Are You Like This?',), ('Eternally Confused and Eager for Love',), ('Love, Life & Everything in Between',), ('Daughter from Another Mother',), ('Dad Stop Embarrassing Me!',), ('Mad for Each Other',), ('Sharkdog',), ('Country Comfort',), ('Adventure Beast',), ('Transformers: BotBots',), ('Zero',), ('A Tale Dark & Grimm',), ('Your Life is a Joke',), ('Supercães',), ('Hello, Me!',), ('Ridley Jones',), ('Dogs in Space',), ('Taarak Mehta Kka Chhota Chashmah',), ('Ada Twist, Scientist',), ('Racket Boys',), ('Decoupled',), ('Rebelde',), ('Karmas World',), ('Scaredy Cats',), ('We the People',), ('The War Next-door',), ('The Wedding Coach',), ('The New Adventures of Oggy',), ('I Heart Arlo',), ('Magic for Humans Spain',), ('Kayko and Kokosh',), ('The Ingenuity of the Househusband',), ('Juanpis González - The Series',), ('Lets Eat',), ('Creators File: GOLD',), ('Abla Fahita: Drama Queen',), ('Christmas Flow',), ('HQ Barbers',), ('Mighty Little Bheem: Kite Festival',)]\u001b[0m\n",
      "Answer:\u001b[32;1m\u001b[1;3mHere are the results:\n",
      "\n",
      "Question: List all titles with TYPE show and have SEASON lesser than 4 and contains GENRE comedy? \n",
      "SQLQuery: SELECT title FROM data WHERE type = 'SHOW' AND seasons < 4 AND genres LIKE '%comedy%' LIMIT 5;\u001b[0m\n",
      "\u001b[1m> Finished chain.\u001b[0m\n"
     ]
    }
   ],
   "source": [
    "# Example usage\n",
    "if __name__ == \"__main__\":\n",
    "    # Sample question\n",
    "    sample_question = \"List all titles with TYPE show and have SEASON lesser than 4 and contains GENRE comedy?\"\n",
    "\n",
    "    # Call the snowflake_answer function with the sample question\n",
    "    snowflake_answer(sample_question)"
   ]
  },
  {
   "cell_type": "code",
   "execution_count": null,
   "id": "c034b5d5",
   "metadata": {},
   "outputs": [],
   "source": []
  }
 ],
 "metadata": {
  "kernelspec": {
   "display_name": "conda_python3",
   "language": "python",
   "name": "conda_python3"
  },
  "language_info": {
   "codemirror_mode": {
    "name": "ipython",
    "version": 3
   },
   "file_extension": ".py",
   "mimetype": "text/x-python",
   "name": "python",
   "nbconvert_exporter": "python",
   "pygments_lexer": "ipython3",
   "version": "3.10.13"
  }
 },
 "nbformat": 4,
 "nbformat_minor": 5
}
